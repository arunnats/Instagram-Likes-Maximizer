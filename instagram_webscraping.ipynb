{
 "cells": [
  {
   "cell_type": "markdown",
   "metadata": {},
   "source": [
    "# Instagram Post Scraper"
   ]
  },
  {
   "cell_type": "code",
   "execution_count": 141,
   "metadata": {},
   "outputs": [],
   "source": [
    "from selenium import webdriver\n",
    "from selenium.webdriver.common.by import By\n",
    "from selenium.webdriver.support.ui import WebDriverWait\n",
    "from selenium.webdriver.support import expected_conditions as EC\n",
    "import time\n",
    "from datetime import datetime, timedelta\n",
    "from bs4 import BeautifulSoup as bs\n",
    "import re"
   ]
  },
  {
   "cell_type": "code",
   "execution_count": 121,
   "metadata": {},
   "outputs": [],
   "source": [
    "browser  = webdriver.Firefox()\n",
    "browser.get('https://www.instagram.com/')"
   ]
  },
  {
   "cell_type": "code",
   "execution_count": 122,
   "metadata": {},
   "outputs": [],
   "source": [
    "WebDriverWait(browser, 10).until(EC.presence_of_element_located((By.CSS_SELECTOR, \"input[name='username']\")))\n",
    "username = browser.find_element(By.CSS_SELECTOR, \"input[name='username']\")\n",
    "password = browser.find_element(By.CSS_SELECTOR, \"input[name='password']\")\n",
    "username.clear()\n",
    "password.clear()\n",
    "username.send_keys(\"ithinktheytoldthewarden\")\n",
    "password.send_keys(\"lndlndlnd\")"
   ]
  },
  {
   "cell_type": "code",
   "execution_count": 123,
   "metadata": {},
   "outputs": [],
   "source": [
    "time.sleep(5)\n",
    "login_button = browser.find_element(By.CSS_SELECTOR, \"button[type='submit']\")\n",
    "login_button.click()"
   ]
  },
  {
   "cell_type": "code",
   "execution_count": 124,
   "metadata": {},
   "outputs": [],
   "source": [
    "time.sleep(5)"
   ]
  },
  {
   "cell_type": "code",
   "execution_count": 125,
   "metadata": {},
   "outputs": [],
   "source": [
    "username='donttellthewarden'\n",
    "browser.get('https://www.instagram.com/'+username+'/?hl=en')\n",
    "links = set()"
   ]
  },
  {
   "cell_type": "code",
   "execution_count": 126,
   "metadata": {},
   "outputs": [],
   "source": [
    "n_scrolls = 20\n",
    "for _ in range(n_scrolls):\n",
    "    source = browser.page_source\n",
    "    data=bs(source, 'html.parser')\n",
    "    posts = data.find_all('a', class_='_a6hd')\n",
    "    time.sleep(15)\n",
    "    \n",
    "    for post in posts:\n",
    "        href = post.get('href')\n",
    "        if href.startswith('/p/') or href.startswith('/reels/'):\n",
    "            link = \"https://instagram.com\" + href\n",
    "            links.add(link)\n",
    "            \n",
    "    browser.execute_script(\"window.scrollTo(0, document.body.scrollHeight);\")"
   ]
  },
  {
   "cell_type": "code",
   "execution_count": 127,
   "metadata": {},
   "outputs": [
    {
     "name": "stdout",
     "output_type": "stream",
     "text": [
      "{'https://instagram.com/p/CVxmEKAPLKo/?hl=en', 'https://instagram.com/p/C7mE2Yxv5JS/?hl=en', 'https://instagram.com/p/CQqvOgCMUye/?hl=en', 'https://instagram.com/p/CVsP373vkMm/?hl=en', 'https://instagram.com/p/Ct9Zmodsk-1/?hl=en', 'https://instagram.com/p/C2KM8Vov7-N/?hl=en', 'https://instagram.com/p/CO7gMuAjAPz/?hl=en', 'https://instagram.com/p/C4aqJIdvE1N/?hl=en', 'https://instagram.com/p/CsqtpaWvBGF/?hl=en', 'https://instagram.com/p/CbkHMknPQO6/?hl=en', 'https://instagram.com/p/CU5JflxPqxO/?hl=en', 'https://instagram.com/p/Cjx4RuLPdkQ/?hl=en', 'https://instagram.com/p/CXtcYmrvGse/?hl=en', 'https://instagram.com/p/CPx8GCsDTJy/?hl=en', 'https://instagram.com/p/Ct__UPEPFEs/?hl=en', 'https://instagram.com/p/CfjLiNmBDzc/?hl=en', 'https://instagram.com/p/CO2ESyvjT-n/?hl=en', 'https://instagram.com/p/C7HcEfVPwA4/?hl=en', 'https://instagram.com/p/CPBQx_AjtRn/?hl=en', 'https://instagram.com/p/CUILXslv4OQ/?hl=en', 'https://instagram.com/p/Cty-5aXvIrC/?hl=en', 'https://instagram.com/p/C5TWSZ1vxQp/?hl=en', 'https://instagram.com/p/CsjEtovv9b4/?hl=en', 'https://instagram.com/p/CQoIwT5M8tQ/?hl=en', 'https://instagram.com/p/C2NMXaBvzGt/?hl=en', 'https://instagram.com/p/Cd8ZpCsvPOb/?hl=en', 'https://instagram.com/p/CstjWZZPeYn/?hl=en', 'https://instagram.com/p/COfm_rRj5Le/?hl=en', 'https://instagram.com/p/CPJEqAHMQ9P/?hl=en', 'https://instagram.com/p/CQYyYhtDICz/?hl=en', 'https://instagram.com/p/CQv0kOAs42A/?hl=en', 'https://instagram.com/p/C7rai1IiVI4/?hl=en', 'https://instagram.com/p/Cj0EdLuPzw4/?hl=en', 'https://instagram.com/p/CPD7Exni8e9/?hl=en', 'https://instagram.com/p/CssyObjsUJW/?hl=en', 'https://instagram.com/p/CoWU07mv2tP/?hl=en', 'https://instagram.com/p/C3USd8FS_Eg/?hl=en', 'https://instagram.com/p/Ce_jwmrvCI1/?hl=en', 'https://instagram.com/p/CswFCizvHEz/?hl=en', 'https://instagram.com/p/CvZyq39vQCo/?hl=en', 'https://instagram.com/p/CN41iAYju3g/?hl=en', 'https://instagram.com/p/CrLYI03PSQm/?hl=en', 'https://instagram.com/p/CeAthRXv0Be/?hl=en', 'https://instagram.com/p/CVxmDiYvbNf/?hl=en', 'https://instagram.com/p/CznZFcVvBM9/?hl=en', 'https://instagram.com/p/CPAK1aOjFKl/?hl=en', 'https://instagram.com/p/CfIpPwdjp3t/?hl=en', 'https://instagram.com/p/Cm_IxHNvw7T/?hl=en', 'https://instagram.com/p/CkVV1sEvRO1/?hl=en', 'https://instagram.com/p/CfjckNnB7XM/?hl=en', 'https://instagram.com/p/CNh9h09jQEY/?hl=en', 'https://instagram.com/p/CaXHmihP5ZH/?hl=en', 'https://instagram.com/p/C7ToovhvLDM/?hl=en', 'https://instagram.com/p/CwVP73CPJO3/?hl=en', 'https://instagram.com/p/CVxl-PXP2Dv/?hl=en', 'https://instagram.com/reels/?hl=en', 'https://instagram.com/p/C7ozo7Ev81v/?hl=en', 'https://instagram.com/p/CO5g98sj-zg/?hl=en', 'https://instagram.com/p/CVF0BeHvAmq/?hl=en', 'https://instagram.com/p/CUczRt6vav_/?hl=en', 'https://instagram.com/p/C7f7dVmvtHI/?hl=en', 'https://instagram.com/p/Cu9gYdGvj2y/?hl=en', 'https://instagram.com/p/CQnr4BkMmU7/?hl=en', 'https://instagram.com/p/Ct1Yn33vvYf/?hl=en', 'https://instagram.com/p/C7ZW3TACeMS/?hl=en', 'https://instagram.com/p/CoMGJQnvIVK/?hl=en', 'https://instagram.com/p/Chy_BzFvsnF/?hl=en', 'https://instagram.com/p/CvUr762v2V6/?hl=en', 'https://instagram.com/p/CeMORE-v0gi/?hl=en', 'https://instagram.com/p/CeEOMQFv7m3/?hl=en', 'https://instagram.com/p/C1CtSPEvX4I/?hl=en', 'https://instagram.com/p/Cnme9GKP0ww/?hl=en', 'https://instagram.com/p/CqDTvC2PPHI/?hl=en', 'https://instagram.com/p/CQlJj12MMgL/?hl=en', 'https://instagram.com/p/CtojeJavU8v/?hl=en', 'https://instagram.com/p/CtRQ6PkPPvk/?hl=en', 'https://instagram.com/p/CtwTN1ZPNAD/?hl=en', 'https://instagram.com/p/C8FGjTbvd2Q/?hl=en', 'https://instagram.com/p/Cv7hnUPvNAQ/?hl=en', 'https://instagram.com/p/CzB102HvWWm/?hl=en', 'https://instagram.com/p/CZJsNOvPlDQ/?hl=en', 'https://instagram.com/p/C04GVQEC4iH/?hl=en', 'https://instagram.com/p/CQJQyG3jQQ_/?hl=en', 'https://instagram.com/p/Cy51fsVvzIt/?hl=en', 'https://instagram.com/p/ChUojW4vw_N/?hl=en', 'https://instagram.com/p/CfMfEaVvRVl/?hl=en', 'https://instagram.com/p/ClEKSkCPLtS/?hl=en', 'https://instagram.com/p/CeJkeWKvHYL/?hl=en', 'https://instagram.com/p/CPIcA6PDLzw/?hl=en', 'https://instagram.com/p/CuHXjGEP8S-/?hl=en', 'https://instagram.com/p/CsjUv7JvCaU/?hl=en', 'https://instagram.com/p/C1Mjit7i1t7/?hl=en', 'https://instagram.com/p/CTuPmtgv-7W/?hl=en', 'https://instagram.com/p/Cxhmx73scxm/?hl=en', 'https://instagram.com/p/C7bvl3uigeT/?hl=en', 'https://instagram.com/p/COfm1eZDfgF/?hl=en', 'https://instagram.com/p/CgeQMMIP860/?hl=en', 'https://instagram.com/p/CqSt5ImPt8G/?hl=en', 'https://instagram.com/p/COfmqq5DB9k/?hl=en', 'https://instagram.com/p/CQgcCdkjlT7/?hl=en', 'https://instagram.com/p/CPNMgdnDPzn/?hl=en', 'https://instagram.com/p/CfRUM-KPP1U/?hl=en', 'https://instagram.com/p/CUSqfTIv-rP/?hl=en', 'https://instagram.com/p/CeGxsVzvPoe/?hl=en', 'https://instagram.com/p/Cmf53RnviKV/?hl=en', 'https://instagram.com/p/CaUze9KvCKX/?hl=en', 'https://instagram.com/p/CWdniLsvWfM/?hl=en', 'https://instagram.com/p/C7g_7liPRJq/?hl=en', 'https://instagram.com/p/CTeyR2lvuQ9/?hl=en', 'https://instagram.com/p/CYolZeoP3tO/?hl=en', 'https://instagram.com/p/CUNY_59v1Wx/?hl=en', 'https://instagram.com/p/Csnng_jP3OV/?hl=en', 'https://instagram.com/p/Ctg8qmWP-Ao/?hl=en', 'https://instagram.com/p/Cs1Yp9svbdq/?hl=en', 'https://instagram.com/p/CV5LfX3vIqm/?hl=en'}\n"
     ]
    }
   ],
   "source": [
    "print(links)"
   ]
  },
  {
   "cell_type": "code",
   "execution_count": 128,
   "metadata": {},
   "outputs": [
    {
     "name": "stdout",
     "output_type": "stream",
     "text": [
      "115\n"
     ]
    }
   ],
   "source": [
    "print(len(links))"
   ]
  },
  {
   "cell_type": "code",
   "execution_count": 142,
   "metadata": {},
   "outputs": [],
   "source": [
    "data_list = []\n",
    "\n",
    "for i, link in enumerate(links):\n",
    "    # if i >= 20:\n",
    "        # break\n",
    "\n",
    "    browser.get(link)\n",
    "    time.sleep(5)\n",
    "\n",
    "    source = browser.page_source\n",
    "    data=bs(source, 'html.parser')\n",
    "    \n",
    "    time_elements = data.find_all('time', class_='x1p4m5qa')\n",
    "    \n",
    "    for time_element in time_elements:\n",
    "        datetime_attr = time_element.get('datetime')\n",
    "        title_attr = time_element.get('title')\n",
    "        \n",
    "        dt_object = datetime.fromisoformat(datetime_attr.rstrip('Z'))\n",
    "        date_of_posting = dt_object.date()\n",
    "        time_of_posting = dt_object.time()\n",
    "        \n",
    "        time_in_IST = (datetime.combine(date_of_posting, time_of_posting) + timedelta(hours=4, minutes=30)).time()\n",
    "            \n",
    "        likes_element = data.find('span', class_='html-span xdj266r x11i5rnm xat24cr x1mh8g0r xexx8yu x4uap5 x18d9i69 xkhd6sd x1hl2dhg x16tdsg8 x1vvkbs')\n",
    "        likes = likes_element.text if likes_element else '0'  \n",
    "        \n",
    "        data_list.append({\n",
    "                'title': title_attr,\n",
    "                'date_of_posting': date_of_posting,\n",
    "                'time_of_posting': time_of_posting,\n",
    "                'time_in_IST': time_in_IST,\n",
    "                'likes': likes\n",
    "            })"
   ]
  },
  {
   "cell_type": "code",
   "execution_count": 143,
   "metadata": {},
   "outputs": [
    {
     "name": "stdout",
     "output_type": "stream",
     "text": [
      "[{'title': 'Nov 2, 2021', 'date_of_posting': datetime.date(2021, 11, 2), 'time_of_posting': datetime.time(13, 20, 9), 'time_in_IST': datetime.time(17, 50, 9), 'likes': '41'}, {'title': 'May 30, 2024', 'date_of_posting': datetime.date(2024, 5, 30), 'time_of_posting': datetime.time(13, 51, 15), 'time_in_IST': datetime.time(18, 21, 15), 'likes': '95'}, {'title': 'Jun 28, 2021', 'date_of_posting': datetime.date(2021, 6, 28), 'time_of_posting': datetime.time(14, 48, 33), 'time_in_IST': datetime.time(19, 18, 33), 'likes': '168'}, {'title': 'Oct 31, 2021', 'date_of_posting': datetime.date(2021, 10, 31), 'time_of_posting': datetime.time(11, 30, 2), 'time_in_IST': datetime.time(16, 0, 2), 'likes': '160'}, {'title': 'Jun 26, 2023', 'date_of_posting': datetime.date(2023, 6, 26), 'time_of_posting': datetime.time(15, 55, 36), 'time_in_IST': datetime.time(20, 25, 36), 'likes': '131'}, {'title': 'Jan 16, 2024', 'date_of_posting': datetime.date(2024, 1, 16), 'time_of_posting': datetime.time(11, 26, 15), 'time_in_IST': datetime.time(15, 56, 15), 'likes': '176'}, {'title': 'May 16, 2021', 'date_of_posting': datetime.date(2021, 5, 16), 'time_of_posting': datetime.time(10, 1, 32), 'time_in_IST': datetime.time(14, 31, 32), 'likes': '156'}, {'title': 'Mar 12, 2024', 'date_of_posting': datetime.date(2024, 3, 12), 'time_of_posting': datetime.time(13, 52, 3), 'time_in_IST': datetime.time(18, 22, 3), 'likes': '189'}, {'title': 'May 25, 2023', 'date_of_posting': datetime.date(2023, 5, 25), 'time_of_posting': datetime.time(13, 13, 47), 'time_in_IST': datetime.time(17, 43, 47), 'likes': '189'}, {'title': 'Mar 26, 2022', 'date_of_posting': datetime.date(2022, 3, 26), 'time_of_posting': datetime.time(10, 48, 39), 'time_in_IST': datetime.time(15, 18, 39), 'likes': '177'}, {'title': 'Oct 11, 2021', 'date_of_posting': datetime.date(2021, 10, 11), 'time_of_posting': datetime.time(15, 13, 1), 'time_in_IST': datetime.time(19, 43, 1), 'likes': '256'}, {'title': 'Oct 16, 2022', 'date_of_posting': datetime.date(2022, 10, 16), 'time_of_posting': datetime.time(15, 18, 48), 'time_in_IST': datetime.time(19, 48, 48), 'likes': '261'}, {'title': 'Dec 20, 2021', 'date_of_posting': datetime.date(2021, 12, 20), 'time_of_posting': datetime.time(15, 41, 23), 'time_in_IST': datetime.time(20, 11, 23), 'likes': '156'}, {'title': 'Jun 6, 2021', 'date_of_posting': datetime.date(2021, 6, 6), 'time_of_posting': datetime.time(13, 24, 17), 'time_in_IST': datetime.time(17, 54, 17), 'likes': '126'}, {'title': 'Jun 27, 2023', 'date_of_posting': datetime.date(2023, 6, 27), 'time_of_posting': datetime.time(16, 3, 37), 'time_in_IST': datetime.time(20, 33, 37), 'likes': '127'}, {'title': 'Jul 3, 2022', 'date_of_posting': datetime.date(2022, 7, 3), 'time_of_posting': datetime.time(12, 12, 54), 'time_in_IST': datetime.time(16, 42, 54), 'likes': '144'}, {'title': 'May 14, 2021', 'date_of_posting': datetime.date(2021, 5, 14), 'time_of_posting': datetime.time(7, 21, 30), 'time_in_IST': datetime.time(11, 51, 30), 'likes': '183'}, {'title': 'May 18, 2024', 'date_of_posting': datetime.date(2024, 5, 18), 'time_of_posting': datetime.time(16, 17, 41), 'time_in_IST': datetime.time(20, 47, 41), 'likes': '143'}, {'title': 'May 18, 2021', 'date_of_posting': datetime.date(2021, 5, 18), 'time_of_posting': datetime.time(15, 42, 15), 'time_in_IST': datetime.time(20, 12, 15), 'likes': '271'}, {'title': 'Sep 22, 2021', 'date_of_posting': datetime.date(2021, 9, 22), 'time_of_posting': datetime.time(14, 46, 38), 'time_in_IST': datetime.time(19, 16, 38), 'likes': '161'}]\n"
     ]
    }
   ],
   "source": [
    "print(data_list)"
   ]
  },
  {
   "cell_type": "markdown",
   "metadata": {},
   "source": [
    "# Data Analysis"
   ]
  },
  {
   "cell_type": "code",
   "execution_count": null,
   "metadata": {},
   "outputs": [],
   "source": [
    "import pandas as pd"
   ]
  },
  {
   "cell_type": "code",
   "execution_count": 144,
   "metadata": {},
   "outputs": [],
   "source": [
    "df = pd.DataFrame(data_list)\n",
    "df.set_index('title', inplace=True)\n",
    "df.sort_values(by='date_of_posting', ascending=False, inplace=True)"
   ]
  },
  {
   "cell_type": "code",
   "execution_count": 145,
   "metadata": {},
   "outputs": [
    {
     "data": {
      "text/html": [
       "<div>\n",
       "<style scoped>\n",
       "    .dataframe tbody tr th:only-of-type {\n",
       "        vertical-align: middle;\n",
       "    }\n",
       "\n",
       "    .dataframe tbody tr th {\n",
       "        vertical-align: top;\n",
       "    }\n",
       "\n",
       "    .dataframe thead th {\n",
       "        text-align: right;\n",
       "    }\n",
       "</style>\n",
       "<table border=\"1\" class=\"dataframe\">\n",
       "  <thead>\n",
       "    <tr style=\"text-align: right;\">\n",
       "      <th></th>\n",
       "      <th>date_of_posting</th>\n",
       "      <th>time_of_posting</th>\n",
       "      <th>time_in_IST</th>\n",
       "      <th>likes</th>\n",
       "    </tr>\n",
       "    <tr>\n",
       "      <th>title</th>\n",
       "      <th></th>\n",
       "      <th></th>\n",
       "      <th></th>\n",
       "      <th></th>\n",
       "    </tr>\n",
       "  </thead>\n",
       "  <tbody>\n",
       "    <tr>\n",
       "      <th>May 30, 2024</th>\n",
       "      <td>2024-05-30</td>\n",
       "      <td>13:51:15</td>\n",
       "      <td>18:21:15</td>\n",
       "      <td>95</td>\n",
       "    </tr>\n",
       "    <tr>\n",
       "      <th>May 18, 2024</th>\n",
       "      <td>2024-05-18</td>\n",
       "      <td>16:17:41</td>\n",
       "      <td>20:47:41</td>\n",
       "      <td>143</td>\n",
       "    </tr>\n",
       "    <tr>\n",
       "      <th>Mar 12, 2024</th>\n",
       "      <td>2024-03-12</td>\n",
       "      <td>13:52:03</td>\n",
       "      <td>18:22:03</td>\n",
       "      <td>189</td>\n",
       "    </tr>\n",
       "    <tr>\n",
       "      <th>Jan 16, 2024</th>\n",
       "      <td>2024-01-16</td>\n",
       "      <td>11:26:15</td>\n",
       "      <td>15:56:15</td>\n",
       "      <td>176</td>\n",
       "    </tr>\n",
       "    <tr>\n",
       "      <th>Jun 27, 2023</th>\n",
       "      <td>2023-06-27</td>\n",
       "      <td>16:03:37</td>\n",
       "      <td>20:33:37</td>\n",
       "      <td>127</td>\n",
       "    </tr>\n",
       "    <tr>\n",
       "      <th>Jun 26, 2023</th>\n",
       "      <td>2023-06-26</td>\n",
       "      <td>15:55:36</td>\n",
       "      <td>20:25:36</td>\n",
       "      <td>131</td>\n",
       "    </tr>\n",
       "    <tr>\n",
       "      <th>May 25, 2023</th>\n",
       "      <td>2023-05-25</td>\n",
       "      <td>13:13:47</td>\n",
       "      <td>17:43:47</td>\n",
       "      <td>189</td>\n",
       "    </tr>\n",
       "    <tr>\n",
       "      <th>Oct 16, 2022</th>\n",
       "      <td>2022-10-16</td>\n",
       "      <td>15:18:48</td>\n",
       "      <td>19:48:48</td>\n",
       "      <td>261</td>\n",
       "    </tr>\n",
       "    <tr>\n",
       "      <th>Jul 3, 2022</th>\n",
       "      <td>2022-07-03</td>\n",
       "      <td>12:12:54</td>\n",
       "      <td>16:42:54</td>\n",
       "      <td>144</td>\n",
       "    </tr>\n",
       "    <tr>\n",
       "      <th>Mar 26, 2022</th>\n",
       "      <td>2022-03-26</td>\n",
       "      <td>10:48:39</td>\n",
       "      <td>15:18:39</td>\n",
       "      <td>177</td>\n",
       "    </tr>\n",
       "    <tr>\n",
       "      <th>Dec 20, 2021</th>\n",
       "      <td>2021-12-20</td>\n",
       "      <td>15:41:23</td>\n",
       "      <td>20:11:23</td>\n",
       "      <td>156</td>\n",
       "    </tr>\n",
       "    <tr>\n",
       "      <th>Nov 2, 2021</th>\n",
       "      <td>2021-11-02</td>\n",
       "      <td>13:20:09</td>\n",
       "      <td>17:50:09</td>\n",
       "      <td>41</td>\n",
       "    </tr>\n",
       "    <tr>\n",
       "      <th>Oct 31, 2021</th>\n",
       "      <td>2021-10-31</td>\n",
       "      <td>11:30:02</td>\n",
       "      <td>16:00:02</td>\n",
       "      <td>160</td>\n",
       "    </tr>\n",
       "    <tr>\n",
       "      <th>Oct 11, 2021</th>\n",
       "      <td>2021-10-11</td>\n",
       "      <td>15:13:01</td>\n",
       "      <td>19:43:01</td>\n",
       "      <td>256</td>\n",
       "    </tr>\n",
       "    <tr>\n",
       "      <th>Sep 22, 2021</th>\n",
       "      <td>2021-09-22</td>\n",
       "      <td>14:46:38</td>\n",
       "      <td>19:16:38</td>\n",
       "      <td>161</td>\n",
       "    </tr>\n",
       "    <tr>\n",
       "      <th>Jun 28, 2021</th>\n",
       "      <td>2021-06-28</td>\n",
       "      <td>14:48:33</td>\n",
       "      <td>19:18:33</td>\n",
       "      <td>168</td>\n",
       "    </tr>\n",
       "    <tr>\n",
       "      <th>Jun 6, 2021</th>\n",
       "      <td>2021-06-06</td>\n",
       "      <td>13:24:17</td>\n",
       "      <td>17:54:17</td>\n",
       "      <td>126</td>\n",
       "    </tr>\n",
       "    <tr>\n",
       "      <th>May 18, 2021</th>\n",
       "      <td>2021-05-18</td>\n",
       "      <td>15:42:15</td>\n",
       "      <td>20:12:15</td>\n",
       "      <td>271</td>\n",
       "    </tr>\n",
       "    <tr>\n",
       "      <th>May 16, 2021</th>\n",
       "      <td>2021-05-16</td>\n",
       "      <td>10:01:32</td>\n",
       "      <td>14:31:32</td>\n",
       "      <td>156</td>\n",
       "    </tr>\n",
       "    <tr>\n",
       "      <th>May 14, 2021</th>\n",
       "      <td>2021-05-14</td>\n",
       "      <td>07:21:30</td>\n",
       "      <td>11:51:30</td>\n",
       "      <td>183</td>\n",
       "    </tr>\n",
       "  </tbody>\n",
       "</table>\n",
       "</div>"
      ],
      "text/plain": [
       "             date_of_posting time_of_posting time_in_IST likes\n",
       "title                                                         \n",
       "May 30, 2024      2024-05-30        13:51:15    18:21:15    95\n",
       "May 18, 2024      2024-05-18        16:17:41    20:47:41   143\n",
       "Mar 12, 2024      2024-03-12        13:52:03    18:22:03   189\n",
       "Jan 16, 2024      2024-01-16        11:26:15    15:56:15   176\n",
       "Jun 27, 2023      2023-06-27        16:03:37    20:33:37   127\n",
       "Jun 26, 2023      2023-06-26        15:55:36    20:25:36   131\n",
       "May 25, 2023      2023-05-25        13:13:47    17:43:47   189\n",
       "Oct 16, 2022      2022-10-16        15:18:48    19:48:48   261\n",
       "Jul 3, 2022       2022-07-03        12:12:54    16:42:54   144\n",
       "Mar 26, 2022      2022-03-26        10:48:39    15:18:39   177\n",
       "Dec 20, 2021      2021-12-20        15:41:23    20:11:23   156\n",
       "Nov 2, 2021       2021-11-02        13:20:09    17:50:09    41\n",
       "Oct 31, 2021      2021-10-31        11:30:02    16:00:02   160\n",
       "Oct 11, 2021      2021-10-11        15:13:01    19:43:01   256\n",
       "Sep 22, 2021      2021-09-22        14:46:38    19:16:38   161\n",
       "Jun 28, 2021      2021-06-28        14:48:33    19:18:33   168\n",
       "Jun 6, 2021       2021-06-06        13:24:17    17:54:17   126\n",
       "May 18, 2021      2021-05-18        15:42:15    20:12:15   271\n",
       "May 16, 2021      2021-05-16        10:01:32    14:31:32   156\n",
       "May 14, 2021      2021-05-14        07:21:30    11:51:30   183"
      ]
     },
     "execution_count": 145,
     "metadata": {},
     "output_type": "execute_result"
    }
   ],
   "source": [
    "df"
   ]
  },
  {
   "cell_type": "code",
   "execution_count": null,
   "metadata": {},
   "outputs": [],
   "source": []
  }
 ],
 "metadata": {
  "kernelspec": {
   "display_name": ".venv",
   "language": "python",
   "name": "python3"
  },
  "language_info": {
   "codemirror_mode": {
    "name": "ipython",
    "version": 3
   },
   "file_extension": ".py",
   "mimetype": "text/x-python",
   "name": "python",
   "nbconvert_exporter": "python",
   "pygments_lexer": "ipython3",
   "version": "3.10.8"
  }
 },
 "nbformat": 4,
 "nbformat_minor": 2
}
